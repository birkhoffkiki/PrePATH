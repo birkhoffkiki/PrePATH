{
 "cells": [
  {
   "cell_type": "code",
   "execution_count": 15,
   "id": "f9fc0269",
   "metadata": {},
   "outputs": [],
   "source": [
    "import os"
   ]
  },
  {
   "cell_type": "code",
   "execution_count": 16,
   "id": "1dcfbd36",
   "metadata": {},
   "outputs": [],
   "source": [
    "def get_all_png_files(directory, filetype):\n",
    "    png_files = []\n",
    "    for root, dirs, files in os.walk(directory):\n",
    "        for file in files:\n",
    "            if file.lower().endswith('.{}'.format(filetype)):\n",
    "                png_files.append(os.path.join(root, file))\n",
    "    return png_files"
   ]
  },
  {
   "cell_type": "code",
   "execution_count": 17,
   "id": "bdc51bf6",
   "metadata": {},
   "outputs": [],
   "source": [
    "root = '/jhcnas3/Pathology/original_data/TCGA-Frozen'"
   ]
  },
  {
   "cell_type": "code",
   "execution_count": 18,
   "id": "ecc624c0",
   "metadata": {},
   "outputs": [],
   "source": [
    "sites = os.listdir(root)"
   ]
  },
  {
   "cell_type": "code",
   "execution_count": 19,
   "id": "90beeed8",
   "metadata": {},
   "outputs": [
    {
     "name": "stdout",
     "output_type": "stream",
     "text": [
      "TCGA-TCGA-frozen1,9810,/jhcnas3/Pathology/original_data/TCGA-Frozen/TCGA-frozen1\n",
      "TCGA-TCGA-frozen2,8584,/jhcnas3/Pathology/original_data/TCGA-Frozen/TCGA-frozen2\n"
     ]
    }
   ],
   "source": [
    "# iterate sites, find all whole slide image\n",
    "for s in sites:\n",
    "    data = get_all_png_files(os.path.join(root, s), 'svs')\n",
    "    print('TCGA-{},{},{}'.format(s, len(data), os.path.join(root, s)))"
   ]
  },
  {
   "cell_type": "code",
   "execution_count": null,
   "id": "973515fb",
   "metadata": {},
   "outputs": [],
   "source": []
  }
 ],
 "metadata": {
  "kernelspec": {
   "display_name": "base",
   "language": "python",
   "name": "python3"
  },
  "language_info": {
   "codemirror_mode": {
    "name": "ipython",
    "version": 3
   },
   "file_extension": ".py",
   "mimetype": "text/x-python",
   "name": "python",
   "nbconvert_exporter": "python",
   "pygments_lexer": "ipython3",
   "version": "3.10.10"
  }
 },
 "nbformat": 4,
 "nbformat_minor": 5
}
